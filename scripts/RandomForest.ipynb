{
 "cells": [
  {
   "cell_type": "code",
   "execution_count": 174,
   "metadata": {},
   "outputs": [],
   "source": [
    "#RandomForest"
   ]
  },
  {
   "cell_type": "code",
   "execution_count": 254,
   "metadata": {},
   "outputs": [],
   "source": [
    "import numpy as np\n",
    "import pandas as pd\n",
    "from sklearn.ensemble import RandomForestClassifier\n",
    "from sklearn import metrics\n",
    "\n",
    "#Ignorar warnings\n",
    "import warnings\n",
    "warnings.filterwarnings('ignore')"
   ]
  },
  {
   "cell_type": "code",
   "execution_count": 255,
   "metadata": {},
   "outputs": [],
   "source": [
    "train = np.load ('train.npy')\n",
    "test = np.load ('test.npy')"
   ]
  },
  {
   "cell_type": "code",
   "execution_count": 256,
   "metadata": {},
   "outputs": [
    {
     "name": "stdout",
     "output_type": "stream",
     "text": [
      "10 270 582\n"
     ]
    }
   ],
   "source": [
    "print(len(train),len(train[0]),len(train[0][0]))"
   ]
  },
  {
   "cell_type": "code",
   "execution_count": 257,
   "metadata": {},
   "outputs": [],
   "source": [
    "modelo = RandomForestClassifier(n_estimators= 100, max_features= 'auto', max_depth= 140)"
   ]
  },
  {
   "cell_type": "code",
   "execution_count": 258,
   "metadata": {},
   "outputs": [
    {
     "name": "stdout",
     "output_type": "stream",
     "text": [
      "Particion  1\n",
      "1.0\n",
      "Precisión: 0.4666666666666667\n",
      "Particion  2\n",
      "1.0\n",
      "Precisión: 0.6666666666666666\n",
      "Particion  3\n",
      "1.0\n",
      "Precisión: 0.6\n",
      "Particion  4\n",
      "1.0\n",
      "Precisión: 0.7\n",
      "Particion  5\n",
      "1.0\n",
      "Precisión: 0.8333333333333334\n",
      "Particion  6\n",
      "1.0\n",
      "Precisión: 0.6333333333333333\n",
      "Particion  7\n",
      "1.0\n",
      "Precisión: 0.6666666666666666\n",
      "Particion  8\n",
      "1.0\n",
      "Precisión: 0.6333333333333333\n",
      "Particion  9\n",
      "1.0\n",
      "Precisión: 0.7\n",
      "Particion  10\n",
      "1.0\n",
      "Precisión: 0.7666666666666667\n",
      "Precisión del modelo:  0.6667\n"
     ]
    }
   ],
   "source": [
    "x_train = list()\n",
    "y_train = list()\n",
    "x_test = list()\n",
    "y_test = list()\n",
    "y_prds = list()\n",
    "y_prds2 = list()\n",
    "y_test2 = list()\n",
    "media = 0\n",
    "\n",
    "#x_train = list()\n",
    "#y_train = list()\n",
    "\n",
    "#Entrenamos el modelo dejando fuera un objeto de cada tipo en cada interacción con las particiones ya creadas\n",
    "for i in range(len(train)):\n",
    "    x_train = list()\n",
    "    x_test = list()\n",
    "    y_train = list()\n",
    "    y_test = list()\n",
    "    print(\"Particion \", i + 1)\n",
    "    \n",
    "    y_train = np.array([\"carton\"]*int(train[i].shape[0]/3) \n",
    "                    +  [\"plastico\"]*int(train[i].shape[0]/3) \n",
    "                    +  [\"cristal\"]*int(train[i].shape[0]/3))\n",
    "    y_test = np.array([\"carton\"]*int(test[i].shape[0]/3) \n",
    "                   +  [\"plastico\"]*int(test[i].shape[0]/3) \n",
    "                   +  [\"cristal\"]*int(test[i].shape[0]/3))\n",
    "    #print(len(y_train[0]))\n",
    "    x_train = train[i]\n",
    "    x_test = test[i]\n",
    "    \n",
    "    #for j in range(len(train[i])):\n",
    "    #    x_train.append(train[i][j])\n",
    "            \n",
    "    modelo.fit(x_train,y_train)\n",
    "    print((y_train == modelo.predict(x_train)).mean())\n",
    "    \n",
    "    y_prds = modelo.predict(x_test)\n",
    "    score = metrics.accuracy_score(y_test, y_prds)\n",
    "    \n",
    "    y_test2.extend(y_test)\n",
    "    y_prds2.extend(y_prds)\n",
    "    \n",
    "    print('Precisión:',score)\n",
    "    media += score\n",
    "    \n",
    "print(\"Precisión del modelo: {0: 0.4f}\".format(media/len(test)))"
   ]
  },
  {
   "cell_type": "code",
   "execution_count": null,
   "metadata": {},
   "outputs": [],
   "source": [
    "#Testamos el modelo\n",
    "y_test2 = list()\n",
    "y_prds2 = list()\n",
    "media = 0\n",
    "\n",
    "for i in range(len(test)):\n",
    "    \n",
    "    x_test = list()\n",
    "    y_test = list()\n",
    "    \n",
    "    \n",
    "    print(\"Partición \", i + 1)\n",
    "    y_test = np.array([\"carton\"]*int(test[i].shape[0]/3) \n",
    "                        +  [\"plastico\"]*int(test[i].shape[0]/3) \n",
    "                        +  [\"cristal\"]*int(test[i].shape[0]/3))\n",
    "    \n",
    "    #for j in range(len(test[i])):#30\n",
    "    x_test = test[i]\n",
    "    \n",
    "    y_test2.extend(y_test)\n",
    "\n",
    "    y_prds = modelo.predict(x_test)\n",
    "    y_prds2.extend(y_prds)\n",
    "    #print(len(y_test2),len(y_prds2))\n",
    "    score = metrics.accuracy_score(y_test, y_prds)\n",
    "    print('Precisión:',score)\n",
    "    media += score\n",
    "\n",
    "print(\"Precisión del modelo: {0: 0.4f}\".format(media/len(test)))"
   ]
  },
  {
   "cell_type": "code",
   "execution_count": 259,
   "metadata": {},
   "outputs": [
    {
     "data": {
      "text/plain": [
       "(300, 300)"
      ]
     },
     "execution_count": 259,
     "metadata": {},
     "output_type": "execute_result"
    }
   ],
   "source": [
    "len(y_test2), len(y_prds2)\n"
   ]
  },
  {
   "cell_type": "code",
   "execution_count": 260,
   "metadata": {},
   "outputs": [
    {
     "data": {
      "text/html": [
       "<div>\n",
       "<style scoped>\n",
       "    .dataframe tbody tr th:only-of-type {\n",
       "        vertical-align: middle;\n",
       "    }\n",
       "\n",
       "    .dataframe tbody tr th {\n",
       "        vertical-align: top;\n",
       "    }\n",
       "\n",
       "    .dataframe thead th {\n",
       "        text-align: right;\n",
       "    }\n",
       "</style>\n",
       "<table border=\"1\" class=\"dataframe\">\n",
       "  <thead>\n",
       "    <tr style=\"text-align: right;\">\n",
       "      <th></th>\n",
       "      <th>real</th>\n",
       "      <th>preds</th>\n",
       "    </tr>\n",
       "  </thead>\n",
       "  <tbody>\n",
       "    <tr>\n",
       "      <th>0</th>\n",
       "      <td>carton</td>\n",
       "      <td>carton</td>\n",
       "    </tr>\n",
       "    <tr>\n",
       "      <th>1</th>\n",
       "      <td>carton</td>\n",
       "      <td>carton</td>\n",
       "    </tr>\n",
       "    <tr>\n",
       "      <th>2</th>\n",
       "      <td>carton</td>\n",
       "      <td>cristal</td>\n",
       "    </tr>\n",
       "    <tr>\n",
       "      <th>3</th>\n",
       "      <td>carton</td>\n",
       "      <td>cristal</td>\n",
       "    </tr>\n",
       "    <tr>\n",
       "      <th>4</th>\n",
       "      <td>carton</td>\n",
       "      <td>cristal</td>\n",
       "    </tr>\n",
       "    <tr>\n",
       "      <th>...</th>\n",
       "      <td>...</td>\n",
       "      <td>...</td>\n",
       "    </tr>\n",
       "    <tr>\n",
       "      <th>295</th>\n",
       "      <td>cristal</td>\n",
       "      <td>cristal</td>\n",
       "    </tr>\n",
       "    <tr>\n",
       "      <th>296</th>\n",
       "      <td>cristal</td>\n",
       "      <td>cristal</td>\n",
       "    </tr>\n",
       "    <tr>\n",
       "      <th>297</th>\n",
       "      <td>cristal</td>\n",
       "      <td>carton</td>\n",
       "    </tr>\n",
       "    <tr>\n",
       "      <th>298</th>\n",
       "      <td>cristal</td>\n",
       "      <td>cristal</td>\n",
       "    </tr>\n",
       "    <tr>\n",
       "      <th>299</th>\n",
       "      <td>cristal</td>\n",
       "      <td>plastico</td>\n",
       "    </tr>\n",
       "  </tbody>\n",
       "</table>\n",
       "<p>300 rows × 2 columns</p>\n",
       "</div>"
      ],
      "text/plain": [
       "        real     preds\n",
       "0     carton    carton\n",
       "1     carton    carton\n",
       "2     carton   cristal\n",
       "3     carton   cristal\n",
       "4     carton   cristal\n",
       "..       ...       ...\n",
       "295  cristal   cristal\n",
       "296  cristal   cristal\n",
       "297  cristal    carton\n",
       "298  cristal   cristal\n",
       "299  cristal  plastico\n",
       "\n",
       "[300 rows x 2 columns]"
      ]
     },
     "execution_count": 260,
     "metadata": {},
     "output_type": "execute_result"
    }
   ],
   "source": [
    "#Comparamos la lectura real con la predicción\n",
    "comp = pd.DataFrame({'real' : y_test2, 'preds' : y_prds2 })\n",
    "#comp = pd.DataFrame({'real' : y_test, 'p1' : y_prds[0], 'p2' : y_prds[1], 'p3' : y_prds[2], 'p4' : y_prds[3], 'p5' : y_prds[4], 'p6' : y_prds[5], 'p7' : y_prds[6], 'p8' : y_prds[7], 'p9' : y_prds[8], 'p10' : y_prds[9] })\n",
    "comp"
   ]
  },
  {
   "cell_type": "code",
   "execution_count": 261,
   "metadata": {},
   "outputs": [
    {
     "name": "stdout",
     "output_type": "stream",
     "text": [
      "Precisión: 0.6666666666666666\n"
     ]
    }
   ],
   "source": [
    "#Precision de la predicción\n",
    "from sklearn.metrics import accuracy_score\n",
    "accuracy = accuracy_score(y_test2, y_prds2)\n",
    "print(\"Precisión:\", accuracy)"
   ]
  },
  {
   "cell_type": "code",
   "execution_count": 262,
   "metadata": {},
   "outputs": [],
   "source": [
    "from sklearn.metrics import confusion_matrix\n",
    "import matplotlib.pyplot as plt\n",
    "import seaborn as sns\n",
    "import itertools  "
   ]
  },
  {
   "cell_type": "code",
   "execution_count": 263,
   "metadata": {},
   "outputs": [
    {
     "data": {
      "text/plain": [
       "array([[63, 17, 20],\n",
       "       [18, 69, 13],\n",
       "       [17, 15, 68]], dtype=int64)"
      ]
     },
     "execution_count": 263,
     "metadata": {},
     "output_type": "execute_result"
    }
   ],
   "source": [
    "cm = confusion_matrix(y_test2, y_prds2)\n",
    "cm #[carton, cristal, plastico]"
   ]
  },
  {
   "cell_type": "code",
   "execution_count": 264,
   "metadata": {},
   "outputs": [],
   "source": [
    "def plot_confusion_matrix(cm, classes,\n",
    "                          normalize=False,\n",
    "                          title='Confusion matrix',\n",
    "                          cmap=plt.cm.Blues):\n",
    "\n",
    "    plt.imshow(cm, interpolation='nearest', cmap=cmap)\n",
    "    plt.title(title)\n",
    "    plt.colorbar()\n",
    "    tick_marks = np.arange(len(classes))\n",
    "    plt.xticks(tick_marks, classes, rotation=45)\n",
    "    plt.yticks([-0.5,0,1,2,2.5], [\"\",\"carton\",\"cristal\",\"plastico\"])\n",
    "\n",
    "    if normalize:\n",
    "        cm = cm.astype('float') / cm.sum(axis=1)[:, np.newaxis]\n",
    "        print(\"Normalizar matriz de confusion\")\n",
    "    else:\n",
    "        print('Matriz de confusion')\n",
    "\n",
    "    print(cm)\n",
    "\n",
    "    thresh = cm.max() / 2.\n",
    "    for i, j in itertools.product(range(cm.shape[0]), range(cm.shape[1])):\n",
    "        plt.text(j, i, cm[i, j],\n",
    "                 horizontalalignment=\"center\",\n",
    "                 color=\"white\" if cm[i, j] > thresh else \"black\")\n",
    "\n",
    "    plt.tight_layout()\n",
    "    plt.ylabel('True label')\n",
    "    plt.xlabel('Predicted label')"
   ]
  },
  {
   "cell_type": "code",
   "execution_count": 265,
   "metadata": {},
   "outputs": [
    {
     "name": "stdout",
     "output_type": "stream",
     "text": [
      "Matriz de confusion\n",
      "[[63 17 20]\n",
      " [18 69 13]\n",
      " [17 15 68]]\n"
     ]
    },
    {
     "data": {
      "image/png": "[encoded data removed]",
      "text/plain": [
       "<Figure size 432x288 with 2 Axes>"
      ]
     },
     "metadata": {
      "needs_background": "light"
     },
     "output_type": "display_data"
    }
   ],
   "source": [
    "# Plot non-normalized confusion matrix\n",
    "plt.figure() #num=None, figsize=(8, 6), dpi=80\n",
    "plot_confusion_matrix(cm, classes= [\"carton\",\"cristal\",\"plastico\"], title='Matriz de Confusion')"
   ]
  },
  {
   "cell_type": "code",
   "execution_count": 266,
   "metadata": {},
   "outputs": [],
   "source": [
    "import joblib "
   ]
  },
  {
   "cell_type": "code",
   "execution_count": 267,
   "metadata": {},
   "outputs": [
    {
     "data": {
      "text/plain": [
       "['modeloRandomForest.pkl']"
      ]
     },
     "execution_count": 267,
     "metadata": {},
     "output_type": "execute_result"
    }
   ],
   "source": [
    "joblib.dump(modelo, 'modeloRandomForest.pkl')"
   ]
  },
  {
   "cell_type": "code",
   "execution_count": 268,
   "metadata": {
    "scrolled": true
   },
   "outputs": [
    {
     "data": {
      "text/plain": [
       "array(['carton', 'carton', 'carton', 'carton', 'carton', 'carton',\n",
       "       'carton', 'carton', 'carton', 'carton', 'plastico', 'plastico',\n",
       "       'plastico', 'plastico', 'plastico', 'plastico', 'plastico',\n",
       "       'plastico', 'plastico', 'plastico', 'cristal', 'cristal',\n",
       "       'cristal', 'cristal', 'cristal', 'cristal', 'cristal', 'cristal',\n",
       "       'cristal', 'cristal'], dtype='<U8')"
      ]
     },
     "execution_count": 268,
     "metadata": {},
     "output_type": "execute_result"
    }
   ],
   "source": [
    "modelo.predict(test[8])"
   ]
  },
  {
   "cell_type": "code",
   "execution_count": 269,
   "metadata": {},
   "outputs": [
    {
     "data": {
      "text/plain": [
       "array(['carton', 'plastico', 'cristal'], dtype='<U8')"
      ]
     },
     "execution_count": 269,
     "metadata": {},
     "output_type": "execute_result"
    }
   ],
   "source": [
    "modelo.predict([test[5][6],test[8][10],test[1][29]])"
   ]
  },
  {
   "cell_type": "code",
   "execution_count": null,
   "metadata": {},
   "outputs": [],
   "source": []
  },
  {
   "cell_type": "code",
   "execution_count": null,
   "metadata": {},
   "outputs": [],
   "source": []
  },
  {
   "cell_type": "code",
   "execution_count": null,
   "metadata": {},
   "outputs": [],
   "source": []
  }
 ],
 "metadata": {
  "kernelspec": {
   "display_name": "Python 3",
   "language": "python",
   "name": "python3"
  },
  "language_info": {
   "codemirror_mode": {
    "name": "ipython",
    "version": 3
   },
   "file_extension": ".py",
   "mimetype": "text/x-python",
   "name": "python",
   "nbconvert_exporter": "python",
   "pygments_lexer": "ipython3",
   "version": "3.8.9"
  }
 },
 "nbformat": 4,
 "nbformat_minor": 2
}
