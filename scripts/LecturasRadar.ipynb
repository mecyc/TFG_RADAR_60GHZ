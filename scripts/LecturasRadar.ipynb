{
 "cells": [
  {
   "cell_type": "code",
   "execution_count": 18,
   "metadata": {},
   "outputs": [],
   "source": [
    "from acconeer.exptool import configs, clients\n",
    "import numpy as np\n",
    "import pandas as pd\n",
    "import socket\n",
    "import paramiko"
   ]
  },
  {
   "cell_type": "code",
   "execution_count": null,
   "metadata": {},
   "outputs": [],
   "source": [
    "ip = socket.gethostbyname('RadarAcconeer') #\"192.168.1.143\"\n",
    "\n",
    "ssh_client = paramiko.SSHClient()\n",
    "ssh_client.set_missing_host_key_policy(paramiko.AutoAddPolicy())\n",
    "ssh_client.connect(ip, 22, 'pi', 'raspberry')\n",
    "\n",
    "\n",
    "#Ejecutar servicio radar\n",
    "ssh_client.exec_command('Downloads/rpi_xc112/utils/acc_streaming_server_rpi_xc112_r2b_xr112_r2b_a111_r2c')\n"
   ]
  },
  {
   "cell_type": "code",
   "execution_count": 549,
   "metadata": {
    "scrolled": true
   },
   "outputs": [
    {
     "name": "stderr",
     "output_type": "stream",
     "text": [
      "old server version - please upgrade server\n"
     ]
    },
    {
     "data": {
      "text/plain": [
       "{'range_start_m': 0.09976809471845627,\n",
       " 'range_length_m': 0.14045020937919617,\n",
       " 'data_length': 291,\n",
       " 'stitch_count': 0,\n",
       " 'step_length_m': 0.0004843111091759056,\n",
       " 'depth_lowpass_cutoff_ratio': 0.004034931305795908}"
      ]
     },
     "execution_count": 549,
     "metadata": {},
     "output_type": "execute_result"
    }
   ],
   "source": [
    "#PARÁMETROS ESTABLECIDOS EN EL RADAR, con configuración IQ\n",
    "\n",
    "iq = configs.IQServiceConfig()\n",
    "#envelope = configs.EnvelopeServiceConfig()\n",
    "iq.range_interval=[0.10, 0.24] #Rango distancias en metros\n",
    "iq.profile = 'PROFILE_2' #Perfil 2 \n",
    "iq.update_rate = 30 # 30 Hz\n",
    "iq.noise_level_normalization = 0 #Normalizacion desactivada\n",
    "iq.gain = 0.5 #Ganancia [0-1]\n",
    "#envelope.range_interval=[0.10, 0.24]\n",
    "\n",
    "#Conexión con raspberry\n",
    "raspi = clients.SocketClient(ip)\n",
    "raspi.connect()\n",
    "raspi.start_session(iq) # o envelope"
   ]
  },
  {
   "cell_type": "code",
   "execution_count": 582,
   "metadata": {
    "scrolled": false
   },
   "outputs": [],
   "source": [
    "#Lectura de material desde el radar\n",
    "material = []\n",
    "for i in range(300):\n",
    "    material.append(raspi.get_next()[-1])\n",
    "\n",
    "\n",
    "np.save('P11_V01.npy', material)"
   ]
  },
  {
   "cell_type": "code",
   "execution_count": 548,
   "metadata": {},
   "outputs": [],
   "source": [
    "#Desconexión con raspberry\n",
    "raspi.stop_session()\n",
    "raspi.disconnect()"
   ]
  }
 ],
 "metadata": {
  "kernelspec": {
   "display_name": "Python 3",
   "language": "python",
   "name": "python3"
  },
  "language_info": {
   "codemirror_mode": {
    "name": "ipython",
    "version": 3
   },
   "file_extension": ".py",
   "mimetype": "text/x-python",
   "name": "python",
   "nbconvert_exporter": "python",
   "pygments_lexer": "ipython3",
   "version": "3.8.9"
  }
 },
 "nbformat": 4,
 "nbformat_minor": 2
}
