{
 "cells": [
  {
   "cell_type": "code",
   "execution_count": 50,
   "metadata": {},
   "outputs": [],
   "source": [
    "#LogisticRegression"
   ]
  },
  {
   "cell_type": "code",
   "execution_count": 51,
   "metadata": {},
   "outputs": [],
   "source": [
    "import numpy as np\n",
    "import pandas as pd\n",
    "from sklearn import metrics\n",
    "\n",
    "#Ignorar warnings\n",
    "import warnings\n",
    "warnings.filterwarnings('ignore')"
   ]
  },
  {
   "cell_type": "code",
   "execution_count": 52,
   "metadata": {},
   "outputs": [],
   "source": [
    "train = np.load ('train.npy')\n",
    "test = np.load ('test.npy')"
   ]
  },
  {
   "cell_type": "code",
   "execution_count": 53,
   "metadata": {},
   "outputs": [],
   "source": [
    "from sklearn.linear_model import LogisticRegression"
   ]
  },
  {
   "cell_type": "code",
   "execution_count": 54,
   "metadata": {},
   "outputs": [],
   "source": [
    "modelo = LogisticRegression(solver='liblinear') #solver='liblinear' quita el error AttributeError: 'str' object has no attribute 'decode'"
   ]
  },
  {
   "cell_type": "code",
   "execution_count": 55,
   "metadata": {},
   "outputs": [
    {
     "name": "stdout",
     "output_type": "stream",
     "text": [
      "Particion  1\n",
      "0.8592592592592593\n",
      "Particion  2\n",
      "0.8444444444444444\n",
      "Particion  3\n",
      "0.837037037037037\n",
      "Particion  4\n",
      "0.8111111111111111\n",
      "Particion  5\n",
      "0.8592592592592593\n",
      "Particion  6\n",
      "0.8222222222222222\n",
      "Particion  7\n",
      "0.8481481481481481\n",
      "Particion  8\n",
      "0.8666666666666667\n",
      "Particion  9\n",
      "0.8222222222222222\n",
      "Particion  10\n",
      "0.8333333333333334\n"
     ]
    }
   ],
   "source": [
    "#x_train = list()\n",
    "y_train = list()\n",
    "x_test = list()\n",
    "y_test = list()\n",
    "y_prds = list()\n",
    "y_prds2 = list()\n",
    "y_test2 = list()\n",
    "media = 0\n",
    "\n",
    "#Entrenamos el modelo\n",
    "for i in range(len(train)): #10\n",
    "    x_train = list()\n",
    "    y_train = list()\n",
    "    \n",
    "    print(\"Particion \", i + 1)\n",
    "\n",
    "    y_train = np.array([\"carton\"]*int(train[i].shape[0]/3) \n",
    "                    +  [\"plastico\"]*int(train[i].shape[0]/3) \n",
    "                    +  [\"cristal\"]*int(train[i].shape[0]/3))\n",
    "    \n",
    "    for j in range(len(train[i])):\n",
    "        x_train.append(train[i][j])\n",
    "        \n",
    "\n",
    "    modelo.fit(x_train,y_train)\n",
    "    print((y_train == modelo.predict(x_train)).mean())\n",
    "    media = media + (y_train == modelo.predict(x_train)).mean()"
   ]
  },
  {
   "cell_type": "code",
   "execution_count": 42,
   "metadata": {},
   "outputs": [
    {
     "name": "stdout",
     "output_type": "stream",
     "text": [
      "Partición  1\n",
      "Partición  2\n",
      "Partición  3\n",
      "Partición  4\n",
      "Partición  5\n",
      "Partición  6\n",
      "Partición  7\n",
      "Partición  8\n",
      "Partición  9\n",
      "Partición  10\n",
      "Precisión del modelo:  0.7900\n"
     ]
    }
   ],
   "source": [
    "#Testamos el modelo\n",
    "y_test2 = list()\n",
    "y_prds2 = list()\n",
    "media = 0\n",
    "\n",
    "for i in range(len(test)):\n",
    "    \n",
    "    x_test = list()\n",
    "    y_test = list()\n",
    "    \n",
    "    \n",
    "    print(\"Partición \", i + 1)\n",
    "    y_test = np.array([\"carton\"]*int(test[i].shape[0]/3) \n",
    "                        +  [\"plastico\"]*int(test[i].shape[0]/3) \n",
    "                        +  [\"cristal\"]*int(test[i].shape[0]/3))\n",
    "    for j in range(len(test[i])):#30\n",
    "        x_test.append(test[i][j])\n",
    "    \n",
    "    y_test2.extend(y_test)\n",
    "    \n",
    "    y_prds = modelo.predict(x_test)\n",
    "    y_prds2.extend(y_prds)\n",
    "    #print(len(y_test2),len(y_prds2))\n",
    "    score = metrics.accuracy_score(y_test, y_prds)\n",
    "    #print('Precisión:',score)\n",
    "    media += score\n",
    "\n",
    "print(\"Precisión del modelo: {0: 0.4f}\".format(media/len(test)))"
   ]
  },
  {
   "cell_type": "code",
   "execution_count": 43,
   "metadata": {},
   "outputs": [
    {
     "data": {
      "text/html": [
       "<div>\n",
       "<style scoped>\n",
       "    .dataframe tbody tr th:only-of-type {\n",
       "        vertical-align: middle;\n",
       "    }\n",
       "\n",
       "    .dataframe tbody tr th {\n",
       "        vertical-align: top;\n",
       "    }\n",
       "\n",
       "    .dataframe thead th {\n",
       "        text-align: right;\n",
       "    }\n",
       "</style>\n",
       "<table border=\"1\" class=\"dataframe\">\n",
       "  <thead>\n",
       "    <tr style=\"text-align: right;\">\n",
       "      <th></th>\n",
       "      <th>real</th>\n",
       "      <th>preds</th>\n",
       "    </tr>\n",
       "  </thead>\n",
       "  <tbody>\n",
       "    <tr>\n",
       "      <th>0</th>\n",
       "      <td>carton</td>\n",
       "      <td>carton</td>\n",
       "    </tr>\n",
       "    <tr>\n",
       "      <th>1</th>\n",
       "      <td>carton</td>\n",
       "      <td>plastico</td>\n",
       "    </tr>\n",
       "    <tr>\n",
       "      <th>2</th>\n",
       "      <td>carton</td>\n",
       "      <td>carton</td>\n",
       "    </tr>\n",
       "    <tr>\n",
       "      <th>3</th>\n",
       "      <td>carton</td>\n",
       "      <td>carton</td>\n",
       "    </tr>\n",
       "    <tr>\n",
       "      <th>4</th>\n",
       "      <td>carton</td>\n",
       "      <td>carton</td>\n",
       "    </tr>\n",
       "    <tr>\n",
       "      <th>...</th>\n",
       "      <td>...</td>\n",
       "      <td>...</td>\n",
       "    </tr>\n",
       "    <tr>\n",
       "      <th>295</th>\n",
       "      <td>cristal</td>\n",
       "      <td>carton</td>\n",
       "    </tr>\n",
       "    <tr>\n",
       "      <th>296</th>\n",
       "      <td>cristal</td>\n",
       "      <td>carton</td>\n",
       "    </tr>\n",
       "    <tr>\n",
       "      <th>297</th>\n",
       "      <td>cristal</td>\n",
       "      <td>carton</td>\n",
       "    </tr>\n",
       "    <tr>\n",
       "      <th>298</th>\n",
       "      <td>cristal</td>\n",
       "      <td>carton</td>\n",
       "    </tr>\n",
       "    <tr>\n",
       "      <th>299</th>\n",
       "      <td>cristal</td>\n",
       "      <td>carton</td>\n",
       "    </tr>\n",
       "  </tbody>\n",
       "</table>\n",
       "<p>300 rows × 2 columns</p>\n",
       "</div>"
      ],
      "text/plain": [
       "        real     preds\n",
       "0     carton    carton\n",
       "1     carton  plastico\n",
       "2     carton    carton\n",
       "3     carton    carton\n",
       "4     carton    carton\n",
       "..       ...       ...\n",
       "295  cristal    carton\n",
       "296  cristal    carton\n",
       "297  cristal    carton\n",
       "298  cristal    carton\n",
       "299  cristal    carton\n",
       "\n",
       "[300 rows x 2 columns]"
      ]
     },
     "execution_count": 43,
     "metadata": {},
     "output_type": "execute_result"
    }
   ],
   "source": [
    "comp = pd.DataFrame({'real' : y_test2 , 'preds' : y_prds2 })\n",
    "comp"
   ]
  },
  {
   "cell_type": "code",
   "execution_count": 44,
   "metadata": {},
   "outputs": [
    {
     "name": "stdout",
     "output_type": "stream",
     "text": [
      "Precisión: 0.79\n"
     ]
    }
   ],
   "source": [
    "#Precision de la predicción\n",
    "from sklearn.metrics import accuracy_score\n",
    "accuracy = accuracy_score(y_test2, y_prds2)\n",
    "print(\"Precisión:\", accuracy)"
   ]
  },
  {
   "cell_type": "code",
   "execution_count": 45,
   "metadata": {},
   "outputs": [],
   "source": [
    "from sklearn.metrics import confusion_matrix"
   ]
  },
  {
   "cell_type": "code",
   "execution_count": 46,
   "metadata": {},
   "outputs": [
    {
     "data": {
      "text/plain": [
       "array([[70,  8, 22],\n",
       "       [13, 75, 12],\n",
       "       [ 6,  2, 92]], dtype=int64)"
      ]
     },
     "execution_count": 46,
     "metadata": {},
     "output_type": "execute_result"
    }
   ],
   "source": [
    "cm = confusion_matrix(y_test2, y_prds2)\n",
    "cm #[carton, cristal, plastico]"
   ]
  },
  {
   "cell_type": "code",
   "execution_count": 47,
   "metadata": {},
   "outputs": [],
   "source": [
    "import matplotlib.pyplot as plt\n",
    "import seaborn as sns\n",
    "import itertools  "
   ]
  },
  {
   "cell_type": "code",
   "execution_count": 48,
   "metadata": {},
   "outputs": [],
   "source": [
    "def plot_confusion_matrix(cm, classes,\n",
    "                          normalize=False,\n",
    "                          title='Confusion matrix',\n",
    "                          cmap=plt.cm.Blues):\n",
    "\n",
    "    plt.imshow(cm, interpolation='nearest', cmap=cmap)\n",
    "    plt.title(title)\n",
    "    plt.colorbar()\n",
    "    tick_marks = np.arange(len(classes))\n",
    "    plt.xticks(tick_marks, classes, rotation=45)\n",
    "    plt.yticks([-0.5,0,1,2,2.5], [\"\",\"carton\",\"cristal\",\"plastico\"])\n",
    "\n",
    "    if normalize:\n",
    "        cm = cm.astype('float') / cm.sum(axis=1)[:, np.newaxis]\n",
    "        print(\"Normalizar matriz de confusion\")\n",
    "    else:\n",
    "        print('Matriz de confusion')\n",
    "\n",
    "    print(cm)\n",
    "\n",
    "    thresh = cm.max() / 2.\n",
    "    for i, j in itertools.product(range(cm.shape[0]), range(cm.shape[1])):\n",
    "        plt.text(j, i, cm[i, j],\n",
    "                 horizontalalignment=\"center\",\n",
    "                 color=\"white\" if cm[i, j] > thresh else \"black\")\n",
    "\n",
    "    plt.tight_layout()\n",
    "    plt.ylabel('True label')\n",
    "    plt.xlabel('Predicted label')"
   ]
  },
  {
   "cell_type": "code",
   "execution_count": 49,
   "metadata": {},
   "outputs": [
    {
     "name": "stdout",
     "output_type": "stream",
     "text": [
      "Matriz de confusion\n",
      "[[70  8 22]\n",
      " [13 75 12]\n",
      " [ 6  2 92]]\n"
     ]
    },
    {
     "data": {
      "image/png": "[encoded data removed]",
      "text/plain": [
       "<Figure size 432x288 with 2 Axes>"
      ]
     },
     "metadata": {
      "needs_background": "light"
     },
     "output_type": "display_data"
    }
   ],
   "source": [
    "# Plot non-normalized confusion matrix\n",
    "plt.figure() #num=None, figsize=(8, 6), dpi=80\n",
    "plot_confusion_matrix(cm, classes= [\"carton\",\"cristal\",\"plastico\"], title='Matriz de Confusion')"
   ]
  },
  {
   "cell_type": "code",
   "execution_count": null,
   "metadata": {},
   "outputs": [],
   "source": []
  },
  {
   "cell_type": "code",
   "execution_count": null,
   "metadata": {},
   "outputs": [],
   "source": []
  },
  {
   "cell_type": "code",
   "execution_count": null,
   "metadata": {},
   "outputs": [],
   "source": []
  }
 ],
 "metadata": {
  "kernelspec": {
   "display_name": "Python 3",
   "language": "python",
   "name": "python3"
  },
  "language_info": {
   "codemirror_mode": {
    "name": "ipython",
    "version": 3
   },
   "file_extension": ".py",
   "mimetype": "text/x-python",
   "name": "python",
   "nbconvert_exporter": "python",
   "pygments_lexer": "ipython3",
   "version": "3.8.9"
  }
 },
 "nbformat": 4,
 "nbformat_minor": 2
}
