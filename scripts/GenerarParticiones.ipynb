{
 "cells": [
  {
   "cell_type": "code",
   "execution_count": 1,
   "id": "e62fc427",
   "metadata": {},
   "outputs": [],
   "source": [
    "import numpy as np\n",
    "import pandas as pd\n",
    "from cmath import phase"
   ]
  },
  {
   "cell_type": "code",
   "execution_count": 2,
   "id": "85ab53ae",
   "metadata": {},
   "outputs": [],
   "source": [
    "'''\n",
    "Una función que a partir del nombre del fichero npy carge los datos, los redimensione y los devuelva. \n",
    "Al estilo de la función get_data(). Devuelve \"datos_bruto\". \n",
    "\n",
    "Los test de esta función:   comprobar que devuelve un array 2D, \n",
    "                            comprobar que la segunda dimensión tiene tamaño 291, \n",
    "                            comprobar que la matriz tiene una parte real \n",
    "                            y que tiene una parte imaginaria.\n",
    "'''\n",
    "\n",
    "def get_data(url):\n",
    "    try:\n",
    "        diccionario = np.load(url, allow_pickle=True).item()\n",
    "        data = diccionario.get('sweep_data').get('data')\n",
    "        data = data.reshape(data.shape[0],data.shape[2])\n",
    "    except:\n",
    "        data = np.load(url)\n",
    "    return data"
   ]
  },
  {
   "cell_type": "code",
   "execution_count": 3,
   "id": "f76da32a",
   "metadata": {},
   "outputs": [
    {
     "name": "stdout",
     "output_type": "stream",
     "text": [
      "(300, 291)\n"
     ]
    }
   ],
   "source": [
    "assert(len(get_data('Materiales\\C01_V01.npy').shape) == 2) #comprobar que devuelve un array 2D\n",
    "assert(get_data('Materiales\\C01_V01.npy').shape[1] == 291) #comprobar que la segunda dimensión tiene tamaño 291\n",
    "assert((get_data('Materiales\\C01_V01.npy').real.mean) != None) #comprobar que la matriz tiene una parte real\n",
    "assert((get_data('Materiales\\C01_V01.npy').imag.mean) != None) #comprobar que la matriz tiene una parte imaginaria\n",
    "print(get_data('Materiales\\C01_V01.npy').shape)"
   ]
  },
  {
   "cell_type": "code",
   "execution_count": 4,
   "id": "3be65c59",
   "metadata": {},
   "outputs": [],
   "source": [
    "'''\n",
    "Una función get_modulo_fase() que a partir del array 2D anterior, obtenga un array 2D, con el doble de anchura. \n",
    "Por ejemplo, si \"datos_bruto\" es de 300x291, \"modulo_fase\" será de 600x291. \n",
    "Esa función obtendrá el módulo del número complejo y la fase del número complejo. \n",
    "    Módulo será una matriz de 300x291 y fase también. \n",
    "Será necesario concatenarlas \"horizontalmente\". \n",
    "Los test comprobarán las dimensiones y tamaños.\n",
    "'''\n",
    "\n",
    "def get_modulo_fase(data):\n",
    "    modulo = abs(data)\n",
    "    fase = []\n",
    "    for i in data:\n",
    "        fila = []\n",
    "        for j in i:\n",
    "            fila.append(phase(j)) #Fase\n",
    "        fase.append(fila)\n",
    "    fase = np.asarray(fase)\n",
    "    modulo_fase = np.concatenate((modulo, fase), axis=0)\n",
    "    return np.asarray(modulo_fase)\n",
    "    #return modulo,fase\n",
    "    "
   ]
  },
  {
   "cell_type": "code",
   "execution_count": 5,
   "id": "a1131809",
   "metadata": {},
   "outputs": [
    {
     "name": "stdout",
     "output_type": "stream",
     "text": [
      "Help on built-in function phase in module cmath:\n",
      "\n",
      "phase(z, /)\n",
      "    Return argument, also known as the phase angle, of a complex.\n",
      "\n"
     ]
    }
   ],
   "source": [
    "help(phase)"
   ]
  },
  {
   "cell_type": "code",
   "execution_count": 6,
   "id": "1d12063c",
   "metadata": {},
   "outputs": [],
   "source": [
    "data = get_data('Materiales\\C01_V01.npy')\n",
    "assert(get_modulo_fase(data).shape[0] >= 600) #Dimensión de tamaño >= 600\n",
    "assert(get_modulo_fase(data).shape[1] == 291) #Dimensión de tamaño = 291\n",
    "\n",
    "\n",
    "#modulo,fase = get_modulo_fase(data)"
   ]
  },
  {
   "cell_type": "code",
   "execution_count": 7,
   "id": "789c15a6",
   "metadata": {},
   "outputs": [
    {
     "data": {
      "text/plain": [
       "35.6931365951495"
      ]
     },
     "execution_count": 7,
     "metadata": {},
     "output_type": "execute_result"
    }
   ],
   "source": [
    "min(get_modulo_fase(data)[0])"
   ]
  },
  {
   "cell_type": "code",
   "execution_count": 8,
   "id": "c84d5026",
   "metadata": {},
   "outputs": [
    {
     "data": {
      "text/plain": [
       "1465.3961921610141"
      ]
     },
     "execution_count": 8,
     "metadata": {},
     "output_type": "execute_result"
    }
   ],
   "source": [
    "max(get_modulo_fase(data)[0])"
   ]
  },
  {
   "cell_type": "code",
   "execution_count": 9,
   "id": "6f0bb710",
   "metadata": {},
   "outputs": [],
   "source": [
    "'''\n",
    "Una función que a partir de los datos \"modulo_fase\" devuelva la media. \n",
    "La comprobación sería que devuelva un array de 1 dimensión de tamaño 582 (291 x 2).\n",
    "'''\n",
    "def get_media(modulo_fase):\n",
    "    traspuesta = np.transpose(modulo_fase) #Obtenemos la matriz traspuesta(291x600) de modulo_fase(600x291)\n",
    "    \n",
    "    #Separamos la traspuesta en modulo y fase\n",
    "    t_modulo = traspuesta[:,:int(traspuesta.shape[1]/2)]\n",
    "    t_fase = traspuesta[:,int(traspuesta.shape[1]/2):]\n",
    "    \n",
    "    media = []\n",
    "    for i in t_modulo:\n",
    "        media.append(i.mean())\n",
    "    for j in t_fase:\n",
    "        media.append(j.mean())\n",
    "        \n",
    "    return np.asarray(media) #Devuelve medias modulo y fase"
   ]
  },
  {
   "cell_type": "code",
   "execution_count": 10,
   "id": "d34600a3",
   "metadata": {},
   "outputs": [],
   "source": [
    "modulo_fase = get_modulo_fase(data)\n",
    "assert(get_media(modulo_fase).shape[0] == 582) #Dimensión de tamaño = 582\n",
    "assert(len(get_media(modulo_fase).shape) == 1) #Array de 1 dimensión"
   ]
  },
  {
   "cell_type": "code",
   "execution_count": 11,
   "id": "775df247",
   "metadata": {},
   "outputs": [],
   "source": [
    "'''\n",
    "Función encargada de obtener las siguientes particiones separadas en entrenamiento (part_train) y test (part_test)\n",
    "\n",
    "Partición 1\n",
    "Entrenamiento: Carton Vista2-Vista10 + Plastico Vista2-Vista10 + Cristal Vista2-Vista10\n",
    "Test: Carton Vista1 + Plastico Vista1 + Cristal Vista1\n",
    "\n",
    "Partición 2\n",
    "Entrenamiento: Carton Vista1,Vista3-Vista10 + Plastico Vista1,Vista3-Vista10 + Cristal Vista1,Vista3-Vista10\n",
    "Test: Carton Vista2 + Plastico Vista2 + Cristal Vista2\n",
    "\n",
    "...\n",
    "\n",
    "Partición 10\n",
    "\n",
    "TEST:\n",
    "Sumando el número de filas de test1 y train1 de lo mismo que sumando el número de filas de test2 y train2.\n",
    "Comprobar el tamaño de varias vistas igual a 582\n",
    "\n",
    "'''\n",
    "\n",
    "def particiones(materiales, objetos, vistas):\n",
    "    \n",
    "    part_train = [] #todos los entrenamientos\n",
    "    part_test = [] #todos los test\n",
    "    #part_train[0][0] se corresponde con part_test[0][0]\n",
    "\n",
    "    z = 1\n",
    "    for x in objetos: #Bucle para crear las 10 particiones\n",
    "        print(\"Particion:\", z)\n",
    "        train = [] #conjunto entrenamiento\n",
    "        test = [] #conjunto de pruebas\n",
    "        for y in materiales: #Bucle de los materiales = 3\n",
    "            for i in objetos: #Bucle de los objetos = 10\n",
    "                #obj = [] #Lista de las vistas de un objeto\n",
    "                for j in vistas: #Bucle de las vistas = 10\n",
    " \n",
    "                    url = ('Materiales\\%s%s_V%s.npy' % (y,i,j))\n",
    "                    data = get_data(url)\n",
    "                    modulo_fase = get_modulo_fase(data)\n",
    "                    media = get_media(modulo_fase)\n",
    "                    \n",
    "                    #obj.append(media)\n",
    "                    \n",
    "                    if x != j: #TRAIN \n",
    "                        train.append(media)\n",
    "                    else: #TEST\n",
    "                        test.append(media)\n",
    "                        \n",
    "                        \n",
    "        part_train.append(train) \n",
    "        part_test.append(test)\n",
    "        \n",
    "        z+=1\n",
    "\n",
    "\n",
    "    part_train = np.asarray(part_train)\n",
    "    part_test = np.asarray(part_test)\n",
    "\n",
    "    return part_train, part_test"
   ]
  },
  {
   "cell_type": "code",
   "execution_count": 12,
   "id": "9096056f",
   "metadata": {},
   "outputs": [
    {
     "name": "stdout",
     "output_type": "stream",
     "text": [
      "Particion: 1\n",
      "Particion: 2\n",
      "Particion: 3\n",
      "Particion: 4\n",
      "Particion: 5\n",
      "Particion: 6\n",
      "Particion: 7\n",
      "Particion: 8\n",
      "Particion: 9\n",
      "Particion: 10\n"
     ]
    }
   ],
   "source": [
    "materiales = ['C','P','G'] #['C','P','G']\n",
    "objetos = ['01','02','03','04','05','06','07','08','09','10'] #['01','02','03','04','05','06','07','08','09','10']\n",
    "vistas = ['01','02','03','04','05','06','07','08','09','10'] #['01','02','03','04','05','06','07','08','09','10']\n",
    "\n",
    "train, test = particiones(materiales, objetos, vistas)"
   ]
  },
  {
   "cell_type": "code",
   "execution_count": 13,
   "id": "b7ebddc4",
   "metadata": {},
   "outputs": [
    {
     "data": {
      "text/plain": [
       "(270, 30, 270, 30, 270, 30, 582)"
      ]
     },
     "execution_count": 13,
     "metadata": {},
     "output_type": "execute_result"
    }
   ],
   "source": [
    "len(train[0]), len(test[0]), len(train[1]), len(test[1]), len(train[9]), len(test[9]), len(train[0][0])"
   ]
  },
  {
   "cell_type": "code",
   "execution_count": 14,
   "id": "b0721f75",
   "metadata": {},
   "outputs": [
    {
     "data": {
      "text/plain": [
       "(270, 582)"
      ]
     },
     "execution_count": 14,
     "metadata": {},
     "output_type": "execute_result"
    }
   ],
   "source": [
    "train[0].shape"
   ]
  },
  {
   "cell_type": "code",
   "execution_count": 15,
   "id": "85b73492",
   "metadata": {},
   "outputs": [
    {
     "data": {
      "text/plain": [
       "(30, 582)"
      ]
     },
     "execution_count": 15,
     "metadata": {},
     "output_type": "execute_result"
    }
   ],
   "source": [
    "test[0].shape"
   ]
  },
  {
   "cell_type": "code",
   "execution_count": 16,
   "id": "417cd039",
   "metadata": {},
   "outputs": [],
   "source": [
    "assert(len(train[0]) + len(test[0])) == (len(train[1]) + len(test[1])) #Train1 60 + Test1 30 = Train2 60 + Test2 30\n",
    "assert(len(train[0]) + len(test[0])) == (len(train[9]) + len(test[9])) #Train1 60 + Test1 30 = Train10 60 + Test10 30\n",
    "assert(len(train[0][0]) == 582) #582 son las caracteristicas de una vista\n",
    "assert(len(train[0][0]) == len(train[0][9]) == len(test[5][7])) #Las vistas tinenen todas un tamaño de 582 (291 x 2)(modulo x fase)"
   ]
  },
  {
   "cell_type": "code",
   "execution_count": 17,
   "id": "86afb882",
   "metadata": {},
   "outputs": [],
   "source": [
    "np.save('train.npy', train)\n",
    "np.save('test.npy', test)"
   ]
  },
  {
   "cell_type": "code",
   "execution_count": 18,
   "id": "69019d9f",
   "metadata": {},
   "outputs": [],
   "source": [
    "def conjunto_datos(materiales, objetos, vistas):\n",
    "    \n",
    "    part_datos = [] #todos los datos\n",
    "\n",
    "    datos = [] #conjunto datos\n",
    "    for y in materiales: #Bucle de los materiales = 3\n",
    "        for i in objetos: #Bucle de los objetos = 10\n",
    "            #obj = [] #Lista de las vistas de un objeto\n",
    "            for j in vistas: #Bucle de las vistas = 10\n",
    "\n",
    "                url = ('Materiales\\%s%s_V%s.npy' % (y,i,j))\n",
    "                data = get_data(url)\n",
    "                modulo_fase = get_modulo_fase(data)\n",
    "                media = get_media(modulo_fase)\n",
    "\n",
    "                datos.append(media)\n",
    "\n",
    "    part_datos = np.asarray(datos) \n",
    "\n",
    "\n",
    "    return part_datos"
   ]
  },
  {
   "cell_type": "code",
   "execution_count": 19,
   "id": "134399ab",
   "metadata": {},
   "outputs": [],
   "source": [
    "datos = conjunto_datos(materiales, objetos, vistas)"
   ]
  },
  {
   "cell_type": "code",
   "execution_count": 20,
   "id": "c9ee1f12",
   "metadata": {},
   "outputs": [],
   "source": [
    "np.save('conjunto_datos.npy', datos)"
   ]
  },
  {
   "cell_type": "code",
   "execution_count": null,
   "id": "539e926a",
   "metadata": {},
   "outputs": [],
   "source": []
  }
 ],
 "metadata": {
  "kernelspec": {
   "display_name": "Python 3",
   "language": "python",
   "name": "python3"
  },
  "language_info": {
   "codemirror_mode": {
    "name": "ipython",
    "version": 3
   },
   "file_extension": ".py",
   "mimetype": "text/x-python",
   "name": "python",
   "nbconvert_exporter": "python",
   "pygments_lexer": "ipython3",
   "version": "3.8.9"
  }
 },
 "nbformat": 4,
 "nbformat_minor": 5
}
