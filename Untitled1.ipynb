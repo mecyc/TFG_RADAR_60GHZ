{
 "cells": [
  {
   "cell_type": "code",
   "execution_count": 99,
   "id": "d36d4252",
   "metadata": {},
   "outputs": [],
   "source": [
    "import numpy as np\n",
    "import pandas as pd\n",
    "from math import *\n",
    "from cmath import *"
   ]
  },
  {
   "cell_type": "code",
   "execution_count": 111,
   "id": "1cce1c19",
   "metadata": {},
   "outputs": [],
   "source": [
    "'''\n",
    "Una función que a partir del nombre del fichero npy carge los datos, los redimensione y los devuelva. \n",
    "Al estilo de la función get_data(). Devuelve \"datos_bruto\". \n",
    "\n",
    "Los test de esta función:   comprobar que devuelve un array 2D, \n",
    "                            comprobar que la segunda dimensión tiene tamaño 291, \n",
    "                            comprobar que la matriz tiene una parte real \n",
    "                            y que tiene una parte imaginaria.\n",
    "'''\n",
    "\n",
    "def get_data(url):\n",
    "    diccionario = np.load(url, allow_pickle=True).item()\n",
    "    data = diccionario.get('sweep_data').get('data')\n",
    "    data = data.reshape(data.shape[0],data.shape[2])\n",
    "    return data"
   ]
  },
  {
   "cell_type": "code",
   "execution_count": 112,
   "id": "a9e3c0b4",
   "metadata": {},
   "outputs": [],
   "source": [
    "assert(len(get_data('Materiales\\C01_V01.npy').shape) == 2) #comprobar que devuelve un array 2D\n",
    "assert(get_data('Materiales\\C01_V01.npy').shape[1] == 291) #comprobar que la segunda dimensión tiene tamaño 291\n",
    "assert((get_data('Materiales\\C01_V01.npy').real.mean) != None) #comprobar que la matriz tiene una parte real\n",
    "assert((get_data('Materiales\\C01_V01.npy').imag.mean) != None) #comprobar que la matriz tiene una parte imaginaria"
   ]
  },
  {
   "cell_type": "code",
   "execution_count": 114,
   "id": "e4b8008f",
   "metadata": {},
   "outputs": [],
   "source": [
    "'''\n",
    "Una función get_modulo_fase() que a partir del array 2D anterior, obtenga un array 2D, con el doble de anchura. \n",
    "Por ejemplo, si \"datos_bruto\" es de 300x291, \"modulo_fase\" será de 600x291. \n",
    "Esa función obtendrá el módulo del número complejo y la fase del número complejo. \n",
    "    Módulo será una matriz de 300x291 y fase también. \n",
    "Será necesario concatenarlas \"horizontalmente\". \n",
    "Los test comprobarán las dimensiones y tamaños.\n",
    "'''\n",
    "\n",
    "def get_modulo_fase(data):\n",
    "    modulo = abs(data)\n",
    "    fase = []\n",
    "    for i in data:\n",
    "        fila = []\n",
    "        for j in i:\n",
    "            fila.append(phase(j))\n",
    "        fase.append(fila)\n",
    "    fase = np.asarray(fase)\n",
    "    modulo_fase = np.concatenate((modulo, fase), axis=0)\n",
    "    return np.asarray(modulo_fase)\n",
    "    "
   ]
  },
  {
   "cell_type": "code",
   "execution_count": 115,
   "id": "5ef433d0",
   "metadata": {},
   "outputs": [],
   "source": [
    "data = get_data('Materiales\\C01_V01.npy')\n",
    "assert(get_modulo_fase(data).shape[0] >= 600)\n",
    "assert(get_modulo_fase(data).shape[1] == 291)"
   ]
  },
  {
   "cell_type": "code",
   "execution_count": 117,
   "id": "b733a811",
   "metadata": {},
   "outputs": [],
   "source": [
    "modulo_fase = get_modulo_fase(data)"
   ]
  },
  {
   "cell_type": "code",
   "execution_count": 130,
   "id": "99865562",
   "metadata": {},
   "outputs": [],
   "source": [
    "'''\n",
    "Una función que a partir de los datos \"modulo_fase\" devuelva la media. \n",
    "La comprobación sería que devuelva un array de 1 dimensión de tamaño 582 (291 x 2).\n",
    "'''\n",
    "def get_media(modulo_fase):\n",
    "    media = []\n",
    "    for i in modulo_fase:\n",
    "        media.append(i.mean())\n",
    "    return np.asarray(media)"
   ]
  },
  {
   "cell_type": "code",
   "execution_count": 131,
   "id": "2d4e4aef",
   "metadata": {},
   "outputs": [
    {
     "data": {
      "text/plain": [
       "(646,)"
      ]
     },
     "execution_count": 131,
     "metadata": {},
     "output_type": "execute_result"
    }
   ],
   "source": [
    "media = get_media(modulo_fase)\n",
    "media.shape"
   ]
  },
  {
   "cell_type": "code",
   "execution_count": null,
   "id": "8a0869a6",
   "metadata": {},
   "outputs": [],
   "source": [
    "modulo_fase = get_modulo_fase(data)\n",
    "assert(get_media(modulo_fase).shape[0] >= 600)"
   ]
  }
 ],
 "metadata": {
  "kernelspec": {
   "display_name": "Python 3",
   "language": "python",
   "name": "python3"
  },
  "language_info": {
   "codemirror_mode": {
    "name": "ipython",
    "version": 3
   },
   "file_extension": ".py",
   "mimetype": "text/x-python",
   "name": "python",
   "nbconvert_exporter": "python",
   "pygments_lexer": "ipython3",
   "version": "3.8.9"
  }
 },
 "nbformat": 4,
 "nbformat_minor": 5
}
