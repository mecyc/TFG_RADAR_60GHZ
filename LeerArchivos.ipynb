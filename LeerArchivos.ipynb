{
 "cells": [
  {
   "cell_type": "code",
   "execution_count": 1,
   "metadata": {},
   "outputs": [],
   "source": [
    "import numpy as np\n",
    "import pandas as pd\n",
    "from cmath import phase"
   ]
  },
  {
   "cell_type": "code",
   "execution_count": 2,
   "metadata": {},
   "outputs": [],
   "source": [
    "'''\n",
    "Una función que a partir del nombre del fichero npy carge los datos, los redimensione y los devuelva. \n",
    "Al estilo de la función get_data(). Devuelve \"datos_bruto\". \n",
    "\n",
    "Los test de esta función:   comprobar que devuelve un array 2D, \n",
    "                            comprobar que la segunda dimensión tiene tamaño 291, \n",
    "                            comprobar que la matriz tiene una parte real \n",
    "                            y que tiene una parte imaginaria.\n",
    "'''\n",
    "\n",
    "def get_data(url):\n",
    "    diccionario = np.load(url, allow_pickle=True).item()\n",
    "    data = diccionario.get('sweep_data').get('data')\n",
    "    data = data.reshape(data.shape[0],data.shape[2])\n",
    "    return data"
   ]
  },
  {
   "cell_type": "code",
   "execution_count": 3,
   "metadata": {},
   "outputs": [],
   "source": [
    "assert(len(get_data('Materiales\\C01_V01.npy').shape) == 2) #comprobar que devuelve un array 2D\n",
    "assert(get_data('Materiales\\C01_V01.npy').shape[1] == 291) #comprobar que la segunda dimensión tiene tamaño 291\n",
    "assert((get_data('Materiales\\C01_V01.npy').real.mean) != None) #comprobar que la matriz tiene una parte real\n",
    "assert((get_data('Materiales\\C01_V01.npy').imag.mean) != None) #comprobar que la matriz tiene una parte imaginaria"
   ]
  },
  {
   "cell_type": "code",
   "execution_count": 4,
   "metadata": {},
   "outputs": [],
   "source": [
    "'''\n",
    "Una función get_modulo_fase() que a partir del array 2D anterior, obtenga un array 2D, con el doble de anchura. \n",
    "Por ejemplo, si \"datos_bruto\" es de 300x291, \"modulo_fase\" será de 600x291. \n",
    "Esa función obtendrá el módulo del número complejo y la fase del número complejo. \n",
    "    Módulo será una matriz de 300x291 y fase también. \n",
    "Será necesario concatenarlas \"horizontalmente\". \n",
    "Los test comprobarán las dimensiones y tamaños.\n",
    "'''\n",
    "\n",
    "def get_modulo_fase(data):\n",
    "    modulo = abs(data)\n",
    "    fase = []\n",
    "    for i in data:\n",
    "        fila = []\n",
    "        for j in i:\n",
    "            fila.append(phase(j)) #Fase\n",
    "        fase.append(fila)\n",
    "    fase = np.asarray(fase)\n",
    "    modulo_fase = np.concatenate((modulo, fase), axis=0)\n",
    "    return np.asarray(modulo_fase)\n",
    "    "
   ]
  },
  {
   "cell_type": "code",
   "execution_count": 5,
   "metadata": {},
   "outputs": [],
   "source": [
    "data = get_data('Materiales\\C01_V01.npy')\n",
    "assert(get_modulo_fase(data).shape[0] >= 600) #Dimensión de tamaño >= 600\n",
    "assert(get_modulo_fase(data).shape[1] == 291) #Dimensión de tamaño = 291"
   ]
  },
  {
   "cell_type": "code",
   "execution_count": 59,
   "metadata": {},
   "outputs": [],
   "source": [
    "'''\n",
    "Una función que a partir de los datos \"modulo_fase\" devuelva la media. \n",
    "La comprobación sería que devuelva un array de 1 dimensión de tamaño 582 (291 x 2).\n",
    "'''\n",
    "def get_media(modulo_fase):\n",
    "    traspuesta = np.transpose(modulo_fase) #Obtenemos la matriz traspuesta(291x600) de modulo_fase(600x291)\n",
    "    \n",
    "    #Separamos la traspuesta en modulo y fase\n",
    "    t_modulo = traspuesta[:,:int(traspuesta.shape[1]/2)]\n",
    "    t_fase = traspuesta[:,int(traspuesta.shape[1]/2):]\n",
    "    \n",
    "    media = []\n",
    "    for i in t_modulo:\n",
    "        media.append(i.mean())\n",
    "    for j in t_fase:\n",
    "        media.append(j.mean())\n",
    "        \n",
    "    return np.asarray(media)"
   ]
  },
  {
   "cell_type": "code",
   "execution_count": 60,
   "metadata": {},
   "outputs": [],
   "source": [
    "modulo_fase = get_modulo_fase(data)\n",
    "assert(get_media(modulo_fase).shape[0] == 582) #Dimensión de tamaño = 582\n",
    "assert(len(get_media(modulo_fase).shape) == 1) #Array de 1 dimensión"
   ]
  },
  {
   "cell_type": "code",
   "execution_count": 61,
   "metadata": {},
   "outputs": [],
   "source": [
    "'''\n",
    "Función encargada de obtener las siguientes particiones separadas en entrenamiento (part_train) y test (part_test)\n",
    "\n",
    "Partición 1\n",
    "Entrenamiento: Carton Obj2-Obj10 + Plastico Obj2-Obj10 + Cristal Obj2-Obj10\n",
    "Test: Carton Obj1 + Plastico Obj1 + Cristal Obj1\n",
    "\n",
    "Partición 2\n",
    "Entrenamiento: Carton Obj1,Obj3-Obj10 + Plastico Obj1,Obj3-Obj10 + Cristal Obj1,Obj3-Obj10\n",
    "Test: Carton Obj2 + Plastico Obj2 + Cristal Obj2\n",
    "\n",
    "...\n",
    "\n",
    "Partición 10\n",
    "\n",
    "TEST:\n",
    "Sumando el número de filas de test1 y train1 de lo mismo que sumando el número de filas de test2 y train2.\n",
    "Comprobar el tamaño de varias vistas igual a 582\n",
    "\n",
    "'''\n",
    "\n",
    "def particiones(materiales, objetos, vistas):\n",
    "        \n",
    "    part_train = [] #todos los entrenamientos\n",
    "    part_test = [] #todos los test\n",
    "    #part_train[0][0] se corresponde con part_test[0][0]\n",
    "\n",
    "    for x in objetos: #Bucle para crear las 10 particiones\n",
    "        train = [] #conjunto entrenamiento\n",
    "        test = [] #conjunto de pruebas\n",
    "        for y in materiales: #Bucle de los materiales = 3\n",
    "            for i in objetos: #Bucle de los objetos = 10\n",
    "                obj = [] #Lista de las vistas de un objeto\n",
    "                for j in vistas: #Bucle de las vistas = 10\n",
    " \n",
    "                    url = ('Materiales\\%s%s_V%s.npy' % (y,i,j))\n",
    "                    data = get_data(url)\n",
    "                    modulo_fase = get_modulo_fase(data)\n",
    "                    media = get_media(modulo_fase)\n",
    "                    \n",
    "                    obj.append(media)\n",
    "                \n",
    "                if x != i: #TRAIN\n",
    "                    train = train + obj #train.append(obj)\n",
    "                else: #TEST\n",
    "                    test = test + obj\n",
    "                    \n",
    "        part_train.append(train) \n",
    "        part_test.append(test)\n",
    "\n",
    "\n",
    "    part_train = np.asarray(part_train)\n",
    "    part_test = np.asarray(part_test)\n",
    "\n",
    "    return part_train, part_test"
   ]
  },
  {
   "cell_type": "code",
   "execution_count": 62,
   "metadata": {},
   "outputs": [],
   "source": [
    "materiales = ['C','P','G'] #['C','P','G']\n",
    "objetos = ['01','02','03','04','05','06','07','08','09','10'] #['01','02','03','04','05','06','07','08','09','10']\n",
    "vistas = ['01','02','03','04','05','06','07','08','09','10'] #['01','02','03','04','05','06','07','08','09','10']\n",
    "\n",
    "train, test = particiones(materiales, objetos, vistas)"
   ]
  },
  {
   "cell_type": "code",
   "execution_count": 63,
   "metadata": {},
   "outputs": [
    {
     "data": {
      "text/plain": [
       "(270, 30, 270, 30, 270, 30)"
      ]
     },
     "execution_count": 63,
     "metadata": {},
     "output_type": "execute_result"
    }
   ],
   "source": [
    "len(train[0]), len(test[0]), len(train[1]), len(test[1]), len(train[9]), len(test[9])"
   ]
  },
  {
   "cell_type": "code",
   "execution_count": 64,
   "metadata": {},
   "outputs": [],
   "source": [
    "assert(len(train[0]) + len(test[0])) == (len(train[1]) + len(test[1])) #Train1 270 + Test1 30 = Train2 270 + Test2 30\n",
    "assert(len(train[0]) + len(test[0])) == (len(train[9]) + len(test[9])) #Train1 270 + Test1 30 = Train10 270 + Test10 30\n",
    "assert(len(train[0][0]) == 582) #La vista 1 del obj 1 es de tamaño 582 (291 x 2)(modulo x fase)\n",
    "assert(len(train[0][0]) == len(train[0][9]) == len(test[5][7])) #Las vistas tinenen todas un tamaño de 582"
   ]
  },
  {
   "cell_type": "code",
   "execution_count": 65,
   "metadata": {},
   "outputs": [],
   "source": [
    "np.save('train.npy', train)\n",
    "np.save('test.npy', test)"
   ]
  },
  {
   "cell_type": "code",
   "execution_count": null,
   "metadata": {},
   "outputs": [],
   "source": [
    "traindf = pd.DataFrame(train)\n",
    "testdf = pd.DataFrame(train)"
   ]
  }
 ],
 "metadata": {
  "kernelspec": {
   "display_name": "Python 3",
   "language": "python",
   "name": "python3"
  },
  "language_info": {
   "codemirror_mode": {
    "name": "ipython",
    "version": 3
   },
   "file_extension": ".py",
   "mimetype": "text/x-python",
   "name": "python",
   "nbconvert_exporter": "python",
   "pygments_lexer": "ipython3",
   "version": "3.7.4"
  }
 },
 "nbformat": 4,
 "nbformat_minor": 5
}
