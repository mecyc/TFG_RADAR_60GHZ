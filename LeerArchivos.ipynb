{
 "cells": [
  {
   "cell_type": "code",
   "execution_count": 29,
   "id": "addff8e7",
   "metadata": {},
   "outputs": [],
   "source": [
    "import numpy as np\n",
    "import pandas as pd"
   ]
  },
  {
   "cell_type": "code",
   "execution_count": 64,
   "id": "95fc71ee",
   "metadata": {},
   "outputs": [
    {
     "data": {
      "text/plain": [
       "\"\\n#Esqueleto\\n\\nmateriales = ['C','P','G']\\nobjetos = ['01','02','03','04','05','06','07','08','09','10']\\nvistas = ['01','02','03','04','05','06','07','08','09','10']\\n\\ntrain = [] #conjunto entrenamiento\\ntest = [] #conjunto de pruebas\\n\\nfor x in objetos:\\n    for y in materiales:\\n        obj=[]\\n        for i in objetos:\\n                vista = []\\n                for j in vistas:\\n                    if x != i:\\n                        print('train',y,i,j)\\n                    else:\\n                        print('test',y,i,j)\\n\\n\""
      ]
     },
     "execution_count": 64,
     "metadata": {},
     "output_type": "execute_result"
    }
   ],
   "source": [
    "'''\n",
    "#Esqueleto\n",
    "\n",
    "materiales = ['C','P','G']\n",
    "objetos = ['01','02','03','04','05','06','07','08','09','10']\n",
    "vistas = ['01','02','03','04','05','06','07','08','09','10']\n",
    "\n",
    "train = [] #conjunto entrenamiento\n",
    "test = [] #conjunto de pruebas\n",
    "\n",
    "for x in objetos:\n",
    "    for y in materiales:\n",
    "        obj=[]\n",
    "        for i in objetos:\n",
    "                vista = []\n",
    "                for j in vistas:\n",
    "                    if x != i:\n",
    "                        print('train',y,i,j)\n",
    "                    else:\n",
    "                        print('test',y,i,j)\n",
    "\n",
    "'''"
   ]
  },
  {
   "cell_type": "code",
   "execution_count": 31,
   "id": "2ef6f8ee",
   "metadata": {},
   "outputs": [],
   "source": [
    "'''\n",
    "Vamos a obtener las siguientes particiones separadas en entrenamiento (part_train) y test (part_test)\n",
    "\n",
    "Partición 1\n",
    "Entrenamiento: Carton Obj2-Obj10 + Plastico Obj2-Obj10 + Cristal Obj2-Obj10\n",
    "Test: Carton Obj1 + Plastico Obj1 + Cristal Obj1\n",
    "\n",
    "Partición 2\n",
    "Entrenamiento: Carton Obj1,Obj3-Obj10 + Plastico Obj1,Obj3-Obj10 + Cristal Obj1,Obj3-Obj10\n",
    "Test: Carton Obj2 + Plastico Obj2 + Cristal Obj2\n",
    "\n",
    "...\n",
    "\n",
    "Partición 10\n",
    "\n",
    "Realizamos la media de cada instante de tiempo (aproximadamente 300) y \n",
    "a su vez la media de todos los instantes de una vista.\n",
    "           \n",
    "'''\n",
    "\n",
    "materiales = ['C', 'G','P'] #C = carton, G = cristal, P = plástico\n",
    "objetos = ['01','02','03','04','05','06','07','08','09','10']\n",
    "vistas = ['01','02','03','04','05','06','07','08','09','10']\n",
    "\n",
    "train = [] #lista de los objetos que pertenecen al conjunto de entrenamiento\n",
    "test = [] #lista de los objetos que perteneces al conjunto de test\n",
    "part_train = [] #todos los entrenamientos\n",
    "part_test = [] #todos los test\n",
    "#part_train[0][0] se corresponde con part_test[0][0]\n",
    "\n",
    "for x in objetos: #Bucle para crear las 10 particiones\n",
    "    for y in materiales: #Bucle de los materiales = 3\n",
    "        for i in objetos: #Bucle de los objetos = 10\n",
    "            obj = [] #Lista de las vistas de un objeto\n",
    "            for j in vistas: #Bucle de las vistas = 10\n",
    "\n",
    "                    medias = [] #lista que se corresponde con una vista\n",
    "                    diccionario = np.load('Materiales\\%s%s_V%s.npy' % (y,i,j),allow_pickle=True).item()\n",
    "                    datos = diccionario.get('sweep_data').get('data')\n",
    "                    datos = datos.reshape(datos.shape[0],datos.shape[2])\n",
    "                    \n",
    "                    for w in datos:\n",
    "                        media = np.mean(w) #Media de cada instante\n",
    "                        medias.append(media)\n",
    "                        \n",
    "                    obj.append(np.mean(medias)) #np.mean(medias) -> media de cada vista\n",
    "                                                #obj.append() -> objeto con todas sus vistas\n",
    "                        \n",
    "            if x != i: #TRAIN\n",
    "                train = train + obj #train.append(obj)\n",
    "            else: #TEST\n",
    "                test = test + obj\n",
    "                \n",
    "    part_train.append(train) \n",
    "    part_test.append(test)\n",
    "\n",
    "\n",
    "part_train = np.asarray(part_train)\n",
    "part_test = np.asarray(part_test)\n",
    "\n",
    "part_train = pd.DataFrame(part_train)\n",
    "part_test = pd.DataFrame(part_test)"
   ]
  },
  {
   "cell_type": "code",
   "execution_count": 60,
   "id": "fffbaba5",
   "metadata": {},
   "outputs": [
    {
     "data": {
      "text/html": [
       "<div>\n",
       "<style scoped>\n",
       "    .dataframe tbody tr th:only-of-type {\n",
       "        vertical-align: middle;\n",
       "    }\n",
       "\n",
       "    .dataframe tbody tr th {\n",
       "        vertical-align: top;\n",
       "    }\n",
       "\n",
       "    .dataframe thead th {\n",
       "        text-align: right;\n",
       "    }\n",
       "</style>\n",
       "<table border=\"1\" class=\"dataframe\">\n",
       "  <thead>\n",
       "    <tr style=\"text-align: right;\">\n",
       "      <th></th>\n",
       "      <th>0</th>\n",
       "    </tr>\n",
       "  </thead>\n",
       "  <tbody>\n",
       "    <tr>\n",
       "      <th>0</th>\n",
       "      <td>[(28.14782302972565-126.08075034307552j), (79....</td>\n",
       "    </tr>\n",
       "    <tr>\n",
       "      <th>1</th>\n",
       "      <td>[(28.14782302972565-126.08075034307552j), (79....</td>\n",
       "    </tr>\n",
       "    <tr>\n",
       "      <th>2</th>\n",
       "      <td>[(28.14782302972565-126.08075034307552j), (79....</td>\n",
       "    </tr>\n",
       "    <tr>\n",
       "      <th>3</th>\n",
       "      <td>[(28.14782302972565-126.08075034307552j), (79....</td>\n",
       "    </tr>\n",
       "    <tr>\n",
       "      <th>4</th>\n",
       "      <td>[(28.14782302972565-126.08075034307552j), (79....</td>\n",
       "    </tr>\n",
       "    <tr>\n",
       "      <th>5</th>\n",
       "      <td>[(28.14782302972565-126.08075034307552j), (79....</td>\n",
       "    </tr>\n",
       "    <tr>\n",
       "      <th>6</th>\n",
       "      <td>[(28.14782302972565-126.08075034307552j), (79....</td>\n",
       "    </tr>\n",
       "    <tr>\n",
       "      <th>7</th>\n",
       "      <td>[(28.14782302972565-126.08075034307552j), (79....</td>\n",
       "    </tr>\n",
       "    <tr>\n",
       "      <th>8</th>\n",
       "      <td>[(28.14782302972565-126.08075034307552j), (79....</td>\n",
       "    </tr>\n",
       "    <tr>\n",
       "      <th>9</th>\n",
       "      <td>[(28.14782302972565-126.08075034307552j), (79....</td>\n",
       "    </tr>\n",
       "  </tbody>\n",
       "</table>\n",
       "</div>"
      ],
      "text/plain": [
       "                                                   0\n",
       "0  [(28.14782302972565-126.08075034307552j), (79....\n",
       "1  [(28.14782302972565-126.08075034307552j), (79....\n",
       "2  [(28.14782302972565-126.08075034307552j), (79....\n",
       "3  [(28.14782302972565-126.08075034307552j), (79....\n",
       "4  [(28.14782302972565-126.08075034307552j), (79....\n",
       "5  [(28.14782302972565-126.08075034307552j), (79....\n",
       "6  [(28.14782302972565-126.08075034307552j), (79....\n",
       "7  [(28.14782302972565-126.08075034307552j), (79....\n",
       "8  [(28.14782302972565-126.08075034307552j), (79....\n",
       "9  [(28.14782302972565-126.08075034307552j), (79...."
      ]
     },
     "execution_count": 60,
     "metadata": {},
     "output_type": "execute_result"
    }
   ],
   "source": [
    "part_train"
   ]
  },
  {
   "cell_type": "code",
   "execution_count": 61,
   "id": "5fa880b0",
   "metadata": {},
   "outputs": [
    {
     "data": {
      "text/html": [
       "<div>\n",
       "<style scoped>\n",
       "    .dataframe tbody tr th:only-of-type {\n",
       "        vertical-align: middle;\n",
       "    }\n",
       "\n",
       "    .dataframe tbody tr th {\n",
       "        vertical-align: top;\n",
       "    }\n",
       "\n",
       "    .dataframe thead th {\n",
       "        text-align: right;\n",
       "    }\n",
       "</style>\n",
       "<table border=\"1\" class=\"dataframe\">\n",
       "  <thead>\n",
       "    <tr style=\"text-align: right;\">\n",
       "      <th></th>\n",
       "      <th>0</th>\n",
       "    </tr>\n",
       "  </thead>\n",
       "  <tbody>\n",
       "    <tr>\n",
       "      <th>0</th>\n",
       "      <td>[(-14.470524400753249+146.95946506654752j), (-...</td>\n",
       "    </tr>\n",
       "    <tr>\n",
       "      <th>1</th>\n",
       "      <td>[(-14.470524400753249+146.95946506654752j), (-...</td>\n",
       "    </tr>\n",
       "    <tr>\n",
       "      <th>2</th>\n",
       "      <td>[(-14.470524400753249+146.95946506654752j), (-...</td>\n",
       "    </tr>\n",
       "    <tr>\n",
       "      <th>3</th>\n",
       "      <td>[(-14.470524400753249+146.95946506654752j), (-...</td>\n",
       "    </tr>\n",
       "    <tr>\n",
       "      <th>4</th>\n",
       "      <td>[(-14.470524400753249+146.95946506654752j), (-...</td>\n",
       "    </tr>\n",
       "    <tr>\n",
       "      <th>5</th>\n",
       "      <td>[(-14.470524400753249+146.95946506654752j), (-...</td>\n",
       "    </tr>\n",
       "    <tr>\n",
       "      <th>6</th>\n",
       "      <td>[(-14.470524400753249+146.95946506654752j), (-...</td>\n",
       "    </tr>\n",
       "    <tr>\n",
       "      <th>7</th>\n",
       "      <td>[(-14.470524400753249+146.95946506654752j), (-...</td>\n",
       "    </tr>\n",
       "    <tr>\n",
       "      <th>8</th>\n",
       "      <td>[(-14.470524400753249+146.95946506654752j), (-...</td>\n",
       "    </tr>\n",
       "    <tr>\n",
       "      <th>9</th>\n",
       "      <td>[(-14.470524400753249+146.95946506654752j), (-...</td>\n",
       "    </tr>\n",
       "  </tbody>\n",
       "</table>\n",
       "</div>"
      ],
      "text/plain": [
       "                                                   0\n",
       "0  [(-14.470524400753249+146.95946506654752j), (-...\n",
       "1  [(-14.470524400753249+146.95946506654752j), (-...\n",
       "2  [(-14.470524400753249+146.95946506654752j), (-...\n",
       "3  [(-14.470524400753249+146.95946506654752j), (-...\n",
       "4  [(-14.470524400753249+146.95946506654752j), (-...\n",
       "5  [(-14.470524400753249+146.95946506654752j), (-...\n",
       "6  [(-14.470524400753249+146.95946506654752j), (-...\n",
       "7  [(-14.470524400753249+146.95946506654752j), (-...\n",
       "8  [(-14.470524400753249+146.95946506654752j), (-...\n",
       "9  [(-14.470524400753249+146.95946506654752j), (-..."
      ]
     },
     "execution_count": 61,
     "metadata": {},
     "output_type": "execute_result"
    }
   ],
   "source": [
    "part_test"
   ]
  },
  {
   "cell_type": "code",
   "execution_count": 59,
   "id": "409fda4f",
   "metadata": {},
   "outputs": [
    {
     "name": "stdout",
     "output_type": "stream",
     "text": [
      "270\n",
      "30\n"
     ]
    }
   ],
   "source": [
    "print(len(part_train[0][0])) # 270 = 90 carton + 90 cristal + 90 plastico\n",
    "print(len(part_test[0][0])) # 30 = 10 carton + 10 cristal + 10 plastico"
   ]
  },
  {
   "cell_type": "code",
   "execution_count": null,
   "id": "0c81ebb8",
   "metadata": {},
   "outputs": [],
   "source": [
    "\n"
   ]
  },
  {
   "cell_type": "code",
   "execution_count": null,
   "id": "ceac1dc1",
   "metadata": {},
   "outputs": [],
   "source": [
    "#RandomForest\n",
    "\n"
   ]
  },
  {
   "cell_type": "code",
   "execution_count": null,
   "id": "b9d07ccb",
   "metadata": {},
   "outputs": [],
   "source": [
    "#KNN\n"
   ]
  }
 ],
 "metadata": {
  "kernelspec": {
   "display_name": "Python 3",
   "language": "python",
   "name": "python3"
  },
  "language_info": {
   "codemirror_mode": {
    "name": "ipython",
    "version": 3
   },
   "file_extension": ".py",
   "mimetype": "text/x-python",
   "name": "python",
   "nbconvert_exporter": "python",
   "pygments_lexer": "ipython3",
   "version": "3.8.9"
  }
 },
 "nbformat": 4,
 "nbformat_minor": 5
}
